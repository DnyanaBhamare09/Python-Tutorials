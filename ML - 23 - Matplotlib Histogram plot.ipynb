{
 "cells": [
  {
   "cell_type": "code",
   "execution_count": 5,
   "metadata": {},
   "outputs": [
    {
     "data": {
      "image/png": "[encoded data removed]",
      "text/plain": [
       "<Figure size 432x288 with 1 Axes>"
      ]
     },
     "metadata": {
      "needs_background": "light"
     },
     "output_type": "display_data"
    }
   ],
   "source": [
    "import matplotlib.pyplot as plt\n",
    "\n",
    "ages = [2, 50, 70, 40, 30, 45, 50, 45, 43, 40, 44, 60,\n",
    "       7, 13, 51, 18, 90, 77, 32, 21, 20, 40]\n",
    "\n",
    "range = (0, 100)\n",
    "\n",
    "bins = 10\n",
    "\n",
    "plt.hist(ages, bins, range, color=\"blue\", histtype =\"bar\", rwidth = 0.7)\n",
    "\n",
    "plt.xlabel(\"Ages\")\n",
    "plt.ylabel(\"bins\")\n",
    "plt.title(\"Histogram Plot\")\n",
    "plt.show()"
   ]
  },
  {
   "cell_type": "code",
   "execution_count": null,
   "metadata": {},
   "outputs": [],
   "source": []
  }
 ],
 "metadata": {
  "kernelspec": {
   "display_name": "Python 2",
   "language": "python",
   "name": "python2"
  },
  "language_info": {
   "codemirror_mode": {
    "name": "ipython",
    "version": 2
   },
   "file_extension": ".py",
   "mimetype": "text/x-python",
   "name": "python",
   "nbconvert_exporter": "python",
   "pygments_lexer": "ipython2",
   "version": "2.7.15"
  }
 },
 "nbformat": 4,
 "nbformat_minor": 2
}
