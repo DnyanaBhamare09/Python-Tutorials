{
 "cells": [
  {
   "cell_type": "code",
   "execution_count": 1,
   "metadata": {},
   "outputs": [
    {
     "name": "stdout",
     "output_type": "stream",
     "text": [
      "Please enter your name\n",
      "Dnyana\n",
      "('Thank You', 'Dnyana')\n"
     ]
    }
   ],
   "source": [
    "name = \"Dnyana\"\n",
    "while True:\n",
    "    print(\"Please enter your name\")\n",
    "    name1 = raw_input()\n",
    "    if name1 == name:\n",
    "        break\n",
    "print(\"Thank You\", name)"
   ]
  },
  {
   "cell_type": "code",
   "execution_count": 2,
   "metadata": {},
   "outputs": [
    {
     "name": "stdout",
     "output_type": "stream",
     "text": [
      "What is your name\n",
      "Dnyana\n",
      "Hello Dnyana. What is your password:Password hint is fish\n",
      "Halwa\n",
      "Wlecome Dnyana. You have entered corret password\n"
     ]
    }
   ],
   "source": [
    "while True:\n",
    "    print(\"What is your name\")\n",
    "    name = raw_input()\n",
    "    if name != \"Dnyana\":\n",
    "        continue\n",
    "    print(\"Hello Dnyana. What is your password\"':Password hint is fish')\n",
    "    name1 = raw_input()\n",
    "    if name1 == \"Halwa\":\n",
    "        break\n",
    "print(\"Wlecome Dnyana. You have entered corret password\")\n",
    "    \n",
    "        "
   ]
  },
  {
   "cell_type": "code",
   "execution_count": null,
   "metadata": {},
   "outputs": [],
   "source": []
  },
  {
   "cell_type": "code",
   "execution_count": null,
   "metadata": {},
   "outputs": [],
   "source": []
  }
 ],
 "metadata": {
  "kernelspec": {
   "display_name": "Python 2",
   "language": "python",
   "name": "python2"
  },
  "language_info": {
   "codemirror_mode": {
    "name": "ipython",
    "version": 2
   },
   "file_extension": ".py",
   "mimetype": "text/x-python",
   "name": "python",
   "nbconvert_exporter": "python",
   "pygments_lexer": "ipython2",
   "version": "2.7.15"
  }
 },
 "nbformat": 4,
 "nbformat_minor": 2
}
