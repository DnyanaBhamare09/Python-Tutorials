{
 "cells": [
  {
   "cell_type": "code",
   "execution_count": 2,
   "metadata": {},
   "outputs": [
    {
     "name": "stdout",
     "output_type": "stream",
     "text": [
      "Hello, knowledge Shelf\n"
     ]
    }
   ],
   "source": [
    "# simple function\n",
    "def function1 ():\n",
    "    print(\"Hello, knowledge Shelf\")\n",
    "# calling function\n",
    "function1()\n",
    "    "
   ]
  },
  {
   "cell_type": "code",
   "execution_count": 5,
   "metadata": {},
   "outputs": [
    {
     "name": "stdout",
     "output_type": "stream",
     "text": [
      "Enter the value of num1 :12\n",
      "Enter the value of num2 :24\n",
      "('Sum is ', 36)\n"
     ]
    }
   ],
   "source": [
    "# no argument no return type function\n",
    "def add():\n",
    "    num1 = int(input(\"Enter the value of num1 :\"))\n",
    "    num2 = int(input(\"Enter the value of num2 :\"))\n",
    "    num3 = num1 + num2\n",
    "    print(\"Sum is \", num3)\n",
    "\n",
    "add()"
   ]
  },
  {
   "cell_type": "code",
   "execution_count": 1,
   "metadata": {},
   "outputs": [
    {
     "name": "stdout",
     "output_type": "stream",
     "text": [
      "('Subtraction is', 6)\n"
     ]
    }
   ],
   "source": [
    "# with argument and no return type\n",
    "def sub(var1, var2):\n",
    "    sub = var1 - var2\n",
    "    print(\"Subtraction is\", sub)\n",
    "    \n",
    "# calling function\n",
    "sub (12, 6)"
   ]
  },
  {
   "cell_type": "code",
   "execution_count": 2,
   "metadata": {},
   "outputs": [
    {
     "name": "stdout",
     "output_type": "stream",
     "text": [
      "Enter the value of variable 121\n",
      "Enter the value of variable 22\n",
      "('Multiplication is', 42)\n"
     ]
    }
   ],
   "source": [
    "# with no argument and with return type\n",
    "def multiply():\n",
    "    var1 = int(input(\"Enter the value of variable 1\"))\n",
    "    var2 = int(input(\"Enter the value of variable 2\"))\n",
    "    var3 = var1*var2\n",
    "    return(var3)\n",
    "# calling function in another variable\n",
    "var4 = multiply()\n",
    "print(\"Multiplication is\", var4)"
   ]
  },
  {
   "cell_type": "code",
   "execution_count": 4,
   "metadata": {},
   "outputs": [
    {
     "name": "stdout",
     "output_type": "stream",
     "text": [
      "('Division is', 5)\n"
     ]
    }
   ],
   "source": [
    "# with argument and return type\n",
    "def div(var1, var2):\n",
    "    var3 = var1/var2\n",
    "    return var3\n",
    "\n",
    "# calling the function\n",
    "var4 = div(49, 9)\n",
    "print(\"Division is\", var4)\n"
   ]
  }
 ],
 "metadata": {
  "kernelspec": {
   "display_name": "Python 2",
   "language": "python",
   "name": "python2"
  },
  "language_info": {
   "codemirror_mode": {
    "name": "ipython",
    "version": 2
   },
   "file_extension": ".py",
   "mimetype": "text/x-python",
   "name": "python",
   "nbconvert_exporter": "python",
   "pygments_lexer": "ipython2",
   "version": "2.7.15"
  }
 },
 "nbformat": 4,
 "nbformat_minor": 2
}
