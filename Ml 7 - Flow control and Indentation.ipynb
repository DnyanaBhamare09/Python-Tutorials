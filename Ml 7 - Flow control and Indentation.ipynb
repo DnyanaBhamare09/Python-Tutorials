{
 "cells": [
  {
   "cell_type": "code",
   "execution_count": 6,
   "metadata": {},
   "outputs": [
    {
     "name": "stdout",
     "output_type": "stream",
     "text": [
      "value of i1\n",
      "value of i2\n",
      "value of i3\n",
      "value of i4\n",
      "value of i5\n",
      "value of i6\n",
      "value of i7\n",
      "value of i8\n",
      "value of i9\n",
      "value of i10\n",
      "value of i11\n"
     ]
    }
   ],
   "source": [
    "for i in range(1, 12):\n",
    "    print(\"value of i\" + str(i))\n"
   ]
  },
  {
   "cell_type": "code",
   "execution_count": 7,
   "metadata": {},
   "outputs": [
    {
     "name": "stdout",
     "output_type": "stream",
     "text": [
      "value of I1\n",
      "for loop is completed\n",
      "value of I2\n",
      "for loop is completed\n",
      "value of I3\n",
      "for loop is completed\n",
      "value of I4\n",
      "for loop is completed\n",
      "value of I5\n",
      "for loop is completed\n",
      "value of I6\n",
      "for loop is completed\n",
      "value of I7\n",
      "for loop is completed\n",
      "value of I8\n",
      "for loop is completed\n",
      "value of I9\n",
      "for loop is completed\n",
      "value of I10\n",
      "for loop is completed\n",
      "value of I11\n",
      "for loop is completed\n"
     ]
    }
   ],
   "source": [
    "for i in range(1, 12):\n",
    "    print(\"value of I\" + str(i))\n",
    "    print(\"for loop is completed\")"
   ]
  },
  {
   "cell_type": "code",
   "execution_count": 8,
   "metadata": {},
   "outputs": [
    {
     "name": "stdout",
     "output_type": "stream",
     "text": [
      "Value of I1\n",
      "Value of I2\n",
      "Value of I3\n",
      "Value of I4\n",
      "Value of I5\n",
      "Value of I6\n",
      "Value of I7\n",
      "Value of I8\n",
      "Value of I9\n",
      "Value of I10\n",
      "Value of I11\n",
      "for loop is completed\n"
     ]
    }
   ],
   "source": [
    "for i in range(1, 12):\n",
    "    print(\"Value of I\" + str(i))\n",
    "print(\"for loop is completed\")"
   ]
  },
  {
   "cell_type": "code",
   "execution_count": 11,
   "metadata": {},
   "outputs": [
    {
     "name": "stdout",
     "output_type": "stream",
     "text": [
      "No is 1 squared is 1 cubic is 1\n",
      "No is 2 squared is 4 cubic is 8\n",
      "No is 3 squared is 9 cubic is 27\n",
      "No is 4 squared is 16 cubic is 64\n",
      "No is 5 squared is 25 cubic is 125\n",
      "No is 6 squared is 36 cubic is 216\n",
      "No is 7 squared is 49 cubic is 343\n",
      "No is 8 squared is 64 cubic is 512\n",
      "No is 9 squared is 81 cubic is 729\n",
      "No is 10 squared is 100 cubic is 1000\n",
      "No is 11 squared is 121 cubic is 1331\n"
     ]
    }
   ],
   "source": [
    "for var1 in range(1, 12):\n",
    "    print(\"No is {} squared is {} cubic is {}\".format(var1, var1**2, var1**3))\n"
   ]
  },
  {
   "cell_type": "code",
   "execution_count": 12,
   "metadata": {},
   "outputs": [
    {
     "name": "stdout",
     "output_type": "stream",
     "text": [
      "no is 1 suqare is 1 cubic is 1\n",
      "no is 2 suqare is 4 cubic is 8\n",
      "no is 3 suqare is 9 cubic is 27\n",
      "no is 4 suqare is 16 cubic is 64\n",
      "no is 5 suqare is 25 cubic is 125\n",
      "no is 6 suqare is 36 cubic is 216\n",
      "no is 7 suqare is 49 cubic is 343\n",
      "no is 8 suqare is 64 cubic is 512\n",
      "no is 9 suqare is 81 cubic is 729\n",
      "no is 10 suqare is 100 cubic is 1000\n",
      "no is 11 suqare is 121 cubic is 1331\n",
      "for loop is completed !!\n"
     ]
    }
   ],
   "source": [
    "for var1 in range(1, 12):\n",
    "    print(\"no is {} suqare is {} cubic is {}\".format(var1, var1**2, var1**3))\n",
    "print(\"for loop is completed !!\")"
   ]
  }
 ],
 "metadata": {
  "kernelspec": {
   "display_name": "Python 2",
   "language": "python",
   "name": "python2"
  },
  "language_info": {
   "codemirror_mode": {
    "name": "ipython",
    "version": 2
   },
   "file_extension": ".py",
   "mimetype": "text/x-python",
   "name": "python",
   "nbconvert_exporter": "python",
   "pygments_lexer": "ipython2",
   "version": "2.7.15"
  }
 },
 "nbformat": 4,
 "nbformat_minor": 2
}
