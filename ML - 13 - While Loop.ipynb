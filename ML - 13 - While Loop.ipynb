{
 "cells": [
  {
   "cell_type": "code",
   "execution_count": 3,
   "metadata": {},
   "outputs": [
    {
     "name": "stdout",
     "output_type": "stream",
     "text": [
      "('value of var1 is', 0)\n",
      "('value of var1 is', 1)\n",
      "('value of var1 is', 2)\n",
      "('value of var1 is', 3)\n",
      "('value of var1 is', 4)\n",
      "('value of var1 is', 5)\n",
      "('value of var1 is', 6)\n",
      "('value of var1 is', 7)\n",
      "('value of var1 is', 8)\n",
      "('value of var1 is', 9)\n",
      "('value of var1 is', 10)\n"
     ]
    }
   ],
   "source": [
    "var1 =0\n",
    "while var1<=10:\n",
    "    print(\"value of var1 is\", var1)\n",
    "    var1 += 1"
   ]
  },
  {
   "cell_type": "code",
   "execution_count": 2,
   "metadata": {},
   "outputs": [
    {
     "name": "stdout",
     "output_type": "stream",
     "text": [
      "Enter your direction:west\n",
      "You are out of infinite loop\n",
      "Enter your direction:east\n",
      "You are out of infinite loop\n",
      "Enter your direction:quite\n",
      "You are out of infinite loop\n",
      "Enter your direction:quit\n",
      "Game is over\n"
     ]
    }
   ],
   "source": [
    "available_exit = [\"east, west, north, south\"]\n",
    "choosen_exit =\"\"\n",
    "while choosen_exit not in available_exit:\n",
    "    choosen_exit = raw_input(\"Enter your direction:\")\n",
    "    if choosen_exit == \"quit\":\n",
    "        print(\"Game is over\")\n",
    "        break\n",
    "    else:\n",
    "        print(\"You are out of infinite loop\")\n",
    "    "
   ]
  },
  {
   "cell_type": "code",
   "execution_count": 4,
   "metadata": {},
   "outputs": [
    {
     "name": "stdout",
     "output_type": "stream",
     "text": [
      "Enter your direction:east\n",
      "Enter your direction:west\n",
      "Enter your direction:north east\n",
      "Enter your direction:quit\n",
      "Game is over\n"
     ]
    }
   ],
   "source": [
    "available_exit = [\"east, west, north, south\"]\n",
    "choosen_exit =\"\"\n",
    "while choosen_exit not in available_exit:\n",
    "    choosen_exit = raw_input(\"Enter your direction:\")\n",
    "    if choosen_exit == \"quit\":\n",
    "        print(\"Game is over\")\n",
    "        break\n",
    "else:\n",
    "    print(\"You are out of infinite loop\")"
   ]
  },
  {
   "cell_type": "code",
   "execution_count": null,
   "metadata": {},
   "outputs": [],
   "source": []
  }
 ],
 "metadata": {
  "kernelspec": {
   "display_name": "Python 2",
   "language": "python",
   "name": "python2"
  },
  "language_info": {
   "codemirror_mode": {
    "name": "ipython",
    "version": 2
   },
   "file_extension": ".py",
   "mimetype": "text/x-python",
   "name": "python",
   "nbconvert_exporter": "python",
   "pygments_lexer": "ipython2",
   "version": "2.7.15"
  }
 },
 "nbformat": 4,
 "nbformat_minor": 2
}
