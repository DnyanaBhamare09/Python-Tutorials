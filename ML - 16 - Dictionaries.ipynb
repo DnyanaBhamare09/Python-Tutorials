{
 "cells": [
  {
   "cell_type": "code",
   "execution_count": 5,
   "metadata": {},
   "outputs": [
    {
     "data": {
      "text/plain": [
       "'fat'"
      ]
     },
     "execution_count": 5,
     "metadata": {},
     "output_type": "execute_result"
    }
   ],
   "source": [
    "myCat = {\"cat\":\"fat\", \"color\":\"grey\", \"disposition\":\"loud\"}\n",
    "myCat[\"cat\"]\n"
   ]
  },
  {
   "cell_type": "code",
   "execution_count": 7,
   "metadata": {},
   "outputs": [
    {
     "data": {
      "text/plain": [
       "'grey'"
      ]
     },
     "execution_count": 7,
     "metadata": {},
     "output_type": "execute_result"
    }
   ],
   "source": [
    "myCat[\"color\"]"
   ]
  },
  {
   "cell_type": "code",
   "execution_count": 9,
   "metadata": {},
   "outputs": [
    {
     "data": {
      "text/plain": [
       "False"
      ]
     },
     "execution_count": 9,
     "metadata": {},
     "output_type": "execute_result"
    }
   ],
   "source": [
    "spam1 = [\"cat\", \"rat\", \"dog\"]\n",
    "spam2 = [\"dog\", \"rat\", \"cat\"]\n",
    "spam1 == spam2"
   ]
  },
  {
   "cell_type": "code",
   "execution_count": 10,
   "metadata": {},
   "outputs": [
    {
     "data": {
      "text/plain": [
       "True"
      ]
     },
     "execution_count": 10,
     "metadata": {},
     "output_type": "execute_result"
    }
   ],
   "source": [
    "myCat1 = {\"cat\":\"fat\", \"color\":\"grey\", \"disposition\":\"loud\"}\n",
    "myCat2 = {\"color\":\"grey\", \"disposition\":\"loud\",\"cat\":\"fat\"}\n",
    "myCat1 ==myCat2"
   ]
  },
  {
   "cell_type": "code",
   "execution_count": 13,
   "metadata": {},
   "outputs": [
    {
     "name": "stdout",
     "output_type": "stream",
     "text": [
      "M\n",
      "29\n",
      "dnyana\n"
     ]
    }
   ],
   "source": [
    "spam = {\"name\":\"dnyana\", \"gender\":\"M\", \"age\":\"29\"}\n",
    "for v in spam.values():\n",
    "    print(v)"
   ]
  },
  {
   "cell_type": "code",
   "execution_count": 14,
   "metadata": {},
   "outputs": [
    {
     "name": "stdout",
     "output_type": "stream",
     "text": [
      "gender\n",
      "age\n",
      "name\n"
     ]
    }
   ],
   "source": [
    "for k in spam.keys():\n",
    "    print(k)\n"
   ]
  },
  {
   "cell_type": "code",
   "execution_count": 16,
   "metadata": {},
   "outputs": [
    {
     "name": "stdout",
     "output_type": "stream",
     "text": [
      "('gender', 'M')\n",
      "('age', '29')\n",
      "('name', 'dnyana')\n"
     ]
    }
   ],
   "source": [
    "for i in spam.items():\n",
    "    print(i)"
   ]
  },
  {
   "cell_type": "code",
   "execution_count": null,
   "metadata": {},
   "outputs": [
    {
     "name": "stdout",
     "output_type": "stream",
     "text": [
      "Enter the name \n",
      "\n",
      "I do not have birthday info for\n",
      "What is the birthday?\n"
     ]
    }
   ],
   "source": [
    "birthdays = {'Rahul':'Jan 1', 'Anil':'April 21', 'Dnyana':'Aug 1'}\n",
    "while True:\n",
    "    print(\"Enter the name \")\n",
    "    name = raw_input()\n",
    "    if name ==\" \":\n",
    "        break\n",
    "    if name in birthdays:\n",
    "        print(birthdays[name] + \" is the birthday of\" + name)\n",
    "    else:\n",
    "        print(\"I do not have birthday info for\" + name)\n",
    "        print(\"What is the birthday?\")\n",
    "        birth = raw_input()\n",
    "        birthdays[name] = birth\n",
    "        print(\"Database is now updated\")\n",
    "        \n",
    "    "
   ]
  }
 ],
 "metadata": {
  "kernelspec": {
   "display_name": "Python 2",
   "language": "python",
   "name": "python2"
  },
  "language_info": {
   "codemirror_mode": {
    "name": "ipython",
    "version": 2
   },
   "file_extension": ".py",
   "mimetype": "text/x-python",
   "name": "python",
   "nbconvert_exporter": "python",
   "pygments_lexer": "ipython2",
   "version": "2.7.15"
  }
 },
 "nbformat": 4,
 "nbformat_minor": 2
}
