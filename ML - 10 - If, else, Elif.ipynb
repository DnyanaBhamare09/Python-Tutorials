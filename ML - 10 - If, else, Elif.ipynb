{
 "cells": [
  {
   "cell_type": "code",
   "execution_count": 20,
   "metadata": {},
   "outputs": [
    {
     "name": "stdout",
     "output_type": "stream",
     "text": [
      "Enter your name:Dnyana\n",
      "No is Dnyana25\n",
      "You are eligible for voting\n"
     ]
    }
   ],
   "source": [
    "name = raw_input(\"Enter your name:\")\n",
    "age = int(input(\"No is {0}\".format(name)))\n",
    "if age > 18:\n",
    "    print(\"You are eligible for voting\")\n",
    "else:\n",
    "    print(\"Come for votting after {0} years\".format(18-age))"
   ]
  },
  {
   "cell_type": "code",
   "execution_count": 35,
   "metadata": {},
   "outputs": [
    {
     "name": "stdout",
     "output_type": "stream",
     "text": [
      "Enter the number in between 1 to 10:3\n",
      "Enter the number greater than 5:4\n",
      "You have not entered the correct value\n"
     ]
    }
   ],
   "source": [
    "var1 = int(input(\"Enter the number in between 1 to 10:\"))\n",
    "if var1 < 5:\n",
    "    input(\"Enter the number greater than 5:\")\n",
    "    if var1 == 5:\n",
    "        print(\"You have entered the correct number\")\n",
    "    else:\n",
    "        print(\"You have not entered the correct value\")\n",
    "elif var1 > 5:\n",
    "    input(\"ENter the lower number\")\n",
    "    if var1 ==5:\n",
    "        print(\"You have entered the correct number\")\n",
    "    else:\n",
    "        print(\"You have not entered the correct number\")\n",
    "else:\n",
    "    print(\"You have got this in first attempt\")"
   ]
  },
  {
   "cell_type": "code",
   "execution_count": null,
   "metadata": {},
   "outputs": [],
   "source": []
  }
 ],
 "metadata": {
  "kernelspec": {
   "display_name": "Python 2",
   "language": "python",
   "name": "python2"
  },
  "language_info": {
   "codemirror_mode": {
    "name": "ipython",
    "version": 2
   },
   "file_extension": ".py",
   "mimetype": "text/x-python",
   "name": "python",
   "nbconvert_exporter": "python",
   "pygments_lexer": "ipython2",
   "version": "2.7.15"
  }
 },
 "nbformat": 4,
 "nbformat_minor": 2
}
