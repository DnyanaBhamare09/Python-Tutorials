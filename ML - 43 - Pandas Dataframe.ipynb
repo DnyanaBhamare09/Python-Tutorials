{
 "cells": [
  {
   "cell_type": "code",
   "execution_count": 2,
   "metadata": {},
   "outputs": [],
   "source": [
    "import pandas as pd\n",
    "\n",
    "nba = pd.read_csv(\"nba.csv\")"
   ]
  },
  {
   "cell_type": "code",
   "execution_count": 3,
   "metadata": {},
   "outputs": [
    {
     "data": {
      "text/html": [
       "<div>\n",
       "<style scoped>\n",
       "    .dataframe tbody tr th:only-of-type {\n",
       "        vertical-align: middle;\n",
       "    }\n",
       "\n",
       "    .dataframe tbody tr th {\n",
       "        vertical-align: top;\n",
       "    }\n",
       "\n",
       "    .dataframe thead th {\n",
       "        text-align: right;\n",
       "    }\n",
       "</style>\n",
       "<table border=\"1\" class=\"dataframe\">\n",
       "  <thead>\n",
       "    <tr style=\"text-align: right;\">\n",
       "      <th></th>\n",
       "      <th>Name</th>\n",
       "      <th>Team</th>\n",
       "      <th>Number</th>\n",
       "      <th>Position</th>\n",
       "      <th>Age</th>\n",
       "      <th>Height</th>\n",
       "      <th>Weight</th>\n",
       "      <th>College</th>\n",
       "      <th>Salary</th>\n",
       "    </tr>\n",
       "  </thead>\n",
       "  <tbody>\n",
       "    <tr>\n",
       "      <th>0</th>\n",
       "      <td>Avery Bradley</td>\n",
       "      <td>Boston Celtics</td>\n",
       "      <td>0</td>\n",
       "      <td>PG</td>\n",
       "      <td>25</td>\n",
       "      <td>2-Jun</td>\n",
       "      <td>180</td>\n",
       "      <td>Texas</td>\n",
       "      <td>7730337.0</td>\n",
       "    </tr>\n",
       "    <tr>\n",
       "      <th>1</th>\n",
       "      <td>Jae Crowder</td>\n",
       "      <td>Boston Celtics</td>\n",
       "      <td>99</td>\n",
       "      <td>SF</td>\n",
       "      <td>25</td>\n",
       "      <td>6-Jun</td>\n",
       "      <td>235</td>\n",
       "      <td>Marquette</td>\n",
       "      <td>6796117.0</td>\n",
       "    </tr>\n",
       "    <tr>\n",
       "      <th>2</th>\n",
       "      <td>John Holland</td>\n",
       "      <td>Boston Celtics</td>\n",
       "      <td>30</td>\n",
       "      <td>SG</td>\n",
       "      <td>27</td>\n",
       "      <td>5-Jun</td>\n",
       "      <td>205</td>\n",
       "      <td>Boston University</td>\n",
       "      <td>NaN</td>\n",
       "    </tr>\n",
       "    <tr>\n",
       "      <th>3</th>\n",
       "      <td>R.J. Hunter</td>\n",
       "      <td>Boston Celtics</td>\n",
       "      <td>28</td>\n",
       "      <td>SG</td>\n",
       "      <td>22</td>\n",
       "      <td>5-Jun</td>\n",
       "      <td>185</td>\n",
       "      <td>Georgia State</td>\n",
       "      <td>1148640.0</td>\n",
       "    </tr>\n",
       "    <tr>\n",
       "      <th>4</th>\n",
       "      <td>Jonas Jerebko</td>\n",
       "      <td>Boston Celtics</td>\n",
       "      <td>8</td>\n",
       "      <td>PF</td>\n",
       "      <td>29</td>\n",
       "      <td>10-Jun</td>\n",
       "      <td>231</td>\n",
       "      <td>NaN</td>\n",
       "      <td>5000000.0</td>\n",
       "    </tr>\n",
       "  </tbody>\n",
       "</table>\n",
       "</div>"
      ],
      "text/plain": [
       "            Name            Team  Number Position  Age  Height  Weight  \\\n",
       "0  Avery Bradley  Boston Celtics       0       PG   25   2-Jun     180   \n",
       "1    Jae Crowder  Boston Celtics      99       SF   25   6-Jun     235   \n",
       "2   John Holland  Boston Celtics      30       SG   27   5-Jun     205   \n",
       "3    R.J. Hunter  Boston Celtics      28       SG   22   5-Jun     185   \n",
       "4  Jonas Jerebko  Boston Celtics       8       PF   29  10-Jun     231   \n",
       "\n",
       "             College     Salary  \n",
       "0              Texas  7730337.0  \n",
       "1          Marquette  6796117.0  \n",
       "2  Boston University        NaN  \n",
       "3      Georgia State  1148640.0  \n",
       "4                NaN  5000000.0  "
      ]
     },
     "execution_count": 3,
     "metadata": {},
     "output_type": "execute_result"
    }
   ],
   "source": [
    "nba.head()"
   ]
  },
  {
   "cell_type": "code",
   "execution_count": 4,
   "metadata": {},
   "outputs": [
    {
     "data": {
      "text/html": [
       "<div>\n",
       "<style scoped>\n",
       "    .dataframe tbody tr th:only-of-type {\n",
       "        vertical-align: middle;\n",
       "    }\n",
       "\n",
       "    .dataframe tbody tr th {\n",
       "        vertical-align: top;\n",
       "    }\n",
       "\n",
       "    .dataframe thead th {\n",
       "        text-align: right;\n",
       "    }\n",
       "</style>\n",
       "<table border=\"1\" class=\"dataframe\">\n",
       "  <thead>\n",
       "    <tr style=\"text-align: right;\">\n",
       "      <th></th>\n",
       "      <th>Name</th>\n",
       "      <th>Team</th>\n",
       "      <th>Number</th>\n",
       "      <th>Position</th>\n",
       "      <th>Age</th>\n",
       "      <th>Height</th>\n",
       "      <th>Weight</th>\n",
       "      <th>College</th>\n",
       "      <th>Salary</th>\n",
       "    </tr>\n",
       "  </thead>\n",
       "  <tbody>\n",
       "    <tr>\n",
       "      <th>452</th>\n",
       "      <td>Trey Lyles</td>\n",
       "      <td>Utah Jazz</td>\n",
       "      <td>41</td>\n",
       "      <td>PF</td>\n",
       "      <td>20</td>\n",
       "      <td>10-Jun</td>\n",
       "      <td>234</td>\n",
       "      <td>Kentucky</td>\n",
       "      <td>2239800.0</td>\n",
       "    </tr>\n",
       "    <tr>\n",
       "      <th>453</th>\n",
       "      <td>Shelvin Mack</td>\n",
       "      <td>Utah Jazz</td>\n",
       "      <td>8</td>\n",
       "      <td>PG</td>\n",
       "      <td>26</td>\n",
       "      <td>3-Jun</td>\n",
       "      <td>203</td>\n",
       "      <td>Butler</td>\n",
       "      <td>2433333.0</td>\n",
       "    </tr>\n",
       "    <tr>\n",
       "      <th>454</th>\n",
       "      <td>Raul Neto</td>\n",
       "      <td>Utah Jazz</td>\n",
       "      <td>25</td>\n",
       "      <td>PG</td>\n",
       "      <td>24</td>\n",
       "      <td>1-Jun</td>\n",
       "      <td>179</td>\n",
       "      <td>NaN</td>\n",
       "      <td>900000.0</td>\n",
       "    </tr>\n",
       "    <tr>\n",
       "      <th>455</th>\n",
       "      <td>Tibor Pleiss</td>\n",
       "      <td>Utah Jazz</td>\n",
       "      <td>21</td>\n",
       "      <td>C</td>\n",
       "      <td>26</td>\n",
       "      <td>3-Jul</td>\n",
       "      <td>256</td>\n",
       "      <td>NaN</td>\n",
       "      <td>2900000.0</td>\n",
       "    </tr>\n",
       "    <tr>\n",
       "      <th>456</th>\n",
       "      <td>Jeff Withey</td>\n",
       "      <td>Utah Jazz</td>\n",
       "      <td>24</td>\n",
       "      <td>C</td>\n",
       "      <td>26</td>\n",
       "      <td>Jul-00</td>\n",
       "      <td>231</td>\n",
       "      <td>Kansas</td>\n",
       "      <td>947276.0</td>\n",
       "    </tr>\n",
       "  </tbody>\n",
       "</table>\n",
       "</div>"
      ],
      "text/plain": [
       "             Name       Team  Number Position  Age  Height  Weight   College  \\\n",
       "452    Trey Lyles  Utah Jazz      41       PF   20  10-Jun     234  Kentucky   \n",
       "453  Shelvin Mack  Utah Jazz       8       PG   26   3-Jun     203    Butler   \n",
       "454     Raul Neto  Utah Jazz      25       PG   24   1-Jun     179       NaN   \n",
       "455  Tibor Pleiss  Utah Jazz      21        C   26   3-Jul     256       NaN   \n",
       "456   Jeff Withey  Utah Jazz      24        C   26  Jul-00     231    Kansas   \n",
       "\n",
       "        Salary  \n",
       "452  2239800.0  \n",
       "453  2433333.0  \n",
       "454   900000.0  \n",
       "455  2900000.0  \n",
       "456   947276.0  "
      ]
     },
     "execution_count": 4,
     "metadata": {},
     "output_type": "execute_result"
    }
   ],
   "source": [
    "nba.tail()"
   ]
  },
  {
   "cell_type": "code",
   "execution_count": 5,
   "metadata": {},
   "outputs": [
    {
     "data": {
      "text/plain": [
       "(457, 9)"
      ]
     },
     "execution_count": 5,
     "metadata": {},
     "output_type": "execute_result"
    }
   ],
   "source": [
    "nba.shape"
   ]
  },
  {
   "cell_type": "code",
   "execution_count": 6,
   "metadata": {},
   "outputs": [
    {
     "data": {
      "text/plain": [
       "<bound method DataFrame.info of                         Name                    Team  Number Position  Age  \\\n",
       "0              Avery Bradley          Boston Celtics       0       PG   25   \n",
       "1                Jae Crowder          Boston Celtics      99       SF   25   \n",
       "2               John Holland          Boston Celtics      30       SG   27   \n",
       "3                R.J. Hunter          Boston Celtics      28       SG   22   \n",
       "4              Jonas Jerebko          Boston Celtics       8       PF   29   \n",
       "5               Amir Johnson          Boston Celtics      90       PF   29   \n",
       "6              Jordan Mickey          Boston Celtics      55       PF   21   \n",
       "7               Kelly Olynyk          Boston Celtics      41        C   25   \n",
       "8               Terry Rozier          Boston Celtics      12       PG   22   \n",
       "9               Marcus Smart          Boston Celtics      36       PG   22   \n",
       "10           Jared Sullinger          Boston Celtics       7        C   24   \n",
       "11             Isaiah Thomas          Boston Celtics       4       PG   27   \n",
       "12               Evan Turner          Boston Celtics      11       SG   27   \n",
       "13               James Young          Boston Celtics      13       SG   20   \n",
       "14              Tyler Zeller          Boston Celtics      44        C   26   \n",
       "15          Bojan Bogdanovic           Brooklyn Nets      44       SG   27   \n",
       "16              Markel Brown           Brooklyn Nets      22       SG   24   \n",
       "17           Wayne Ellington           Brooklyn Nets      21       SG   28   \n",
       "18   Rondae Hollis-Jefferson           Brooklyn Nets      24       SG   21   \n",
       "19              Jarrett Jack           Brooklyn Nets       2       PG   32   \n",
       "20            Sergey Karasev           Brooklyn Nets      10       SG   22   \n",
       "21           Sean Kilpatrick           Brooklyn Nets       6       SG   26   \n",
       "22              Shane Larkin           Brooklyn Nets       0       PG   23   \n",
       "23               Brook Lopez           Brooklyn Nets      11        C   28   \n",
       "24          Chris McCullough           Brooklyn Nets       1       PF   21   \n",
       "25               Willie Reed           Brooklyn Nets      33       PF   26   \n",
       "26           Thomas Robinson           Brooklyn Nets      41       PF   25   \n",
       "27                Henry Sims           Brooklyn Nets      14        C   26   \n",
       "28              Donald Sloan           Brooklyn Nets      15       PG   28   \n",
       "29            Thaddeus Young           Brooklyn Nets      30       PF   27   \n",
       "..                       ...                     ...     ...      ...  ...   \n",
       "427          Cliff Alexander  Portland Trail Blazers      34       PF   20   \n",
       "428          Al-Farouq Aminu  Portland Trail Blazers       8       SF   25   \n",
       "429          Pat Connaughton  Portland Trail Blazers       5       SG   23   \n",
       "430             Allen Crabbe  Portland Trail Blazers      23       SG   24   \n",
       "431                 Ed Davis  Portland Trail Blazers      17        C   27   \n",
       "432         Maurice Harkless  Portland Trail Blazers       4       SF   23   \n",
       "433         Gerald Henderson  Portland Trail Blazers       9       SG   28   \n",
       "434              Chris Kaman  Portland Trail Blazers      35        C   34   \n",
       "435           Meyers Leonard  Portland Trail Blazers      11       PF   24   \n",
       "436           Damian Lillard  Portland Trail Blazers       0       PG   25   \n",
       "437            C.J. McCollum  Portland Trail Blazers       3       SG   24   \n",
       "438             Luis Montero  Portland Trail Blazers      44       SG   23   \n",
       "439            Mason Plumlee  Portland Trail Blazers      24        C   26   \n",
       "440            Brian Roberts  Portland Trail Blazers       2       PG   30   \n",
       "441              Noah Vonleh  Portland Trail Blazers      21       PF   20   \n",
       "442            Trevor Booker               Utah Jazz      33       PF   28   \n",
       "443               Trey Burke               Utah Jazz       3       PG   23   \n",
       "444               Alec Burks               Utah Jazz      10       SG   24   \n",
       "445               Dante Exum               Utah Jazz      11       PG   20   \n",
       "446           Derrick Favors               Utah Jazz      15       PF   24   \n",
       "447              Rudy Gobert               Utah Jazz      27        C   23   \n",
       "448           Gordon Hayward               Utah Jazz      20       SF   26   \n",
       "449              Rodney Hood               Utah Jazz       5       SG   23   \n",
       "450               Joe Ingles               Utah Jazz       2       SF   28   \n",
       "451            Chris Johnson               Utah Jazz      23       SF   26   \n",
       "452               Trey Lyles               Utah Jazz      41       PF   20   \n",
       "453             Shelvin Mack               Utah Jazz       8       PG   26   \n",
       "454                Raul Neto               Utah Jazz      25       PG   24   \n",
       "455             Tibor Pleiss               Utah Jazz      21        C   26   \n",
       "456              Jeff Withey               Utah Jazz      24        C   26   \n",
       "\n",
       "     Height  Weight            College      Salary  \n",
       "0     2-Jun     180              Texas   7730337.0  \n",
       "1     6-Jun     235          Marquette   6796117.0  \n",
       "2     5-Jun     205  Boston University         NaN  \n",
       "3     5-Jun     185      Georgia State   1148640.0  \n",
       "4    10-Jun     231                NaN   5000000.0  \n",
       "5     9-Jun     240                NaN  12000000.0  \n",
       "6     8-Jun     235                LSU   1170960.0  \n",
       "7    Jul-00     238            Gonzaga   2165160.0  \n",
       "8     2-Jun     190         Louisville   1824360.0  \n",
       "9     4-Jun     220     Oklahoma State   3431040.0  \n",
       "10    9-Jun     260         Ohio State   2569260.0  \n",
       "11    9-May     185         Washington   6912869.0  \n",
       "12    7-Jun     220         Ohio State   3425510.0  \n",
       "13    6-Jun     215           Kentucky   1749840.0  \n",
       "14   Jul-00     253     North Carolina   2616975.0  \n",
       "15    8-Jun     216                NaN   3425510.0  \n",
       "16    3-Jun     190     Oklahoma State    845059.0  \n",
       "17    4-Jun     200     North Carolina   1500000.0  \n",
       "18    7-Jun     220            Arizona   1335480.0  \n",
       "19    3-Jun     200       Georgia Tech   6300000.0  \n",
       "20    7-Jun     208                NaN   1599840.0  \n",
       "21    4-Jun     219         Cincinnati    134215.0  \n",
       "22   11-May     175         Miami (FL)   1500000.0  \n",
       "23   Jul-00     275           Stanford  19689000.0  \n",
       "24   11-Jun     200           Syracuse   1140240.0  \n",
       "25   10-Jun     220        Saint Louis    947276.0  \n",
       "26   10-Jun     237             Kansas    981348.0  \n",
       "27   10-Jun     248         Georgetown    947276.0  \n",
       "28    3-Jun     205          Texas A&M    947276.0  \n",
       "29    8-Jun     221       Georgia Tech  11235955.0  \n",
       "..      ...     ...                ...         ...  \n",
       "427   8-Jun     240             Kansas    525093.0  \n",
       "428   9-Jun     215        Wake Forest   8042895.0  \n",
       "429   5-Jun     206         Notre Dame    625093.0  \n",
       "430   6-Jun     210         California    947276.0  \n",
       "431  10-Jun     240     North Carolina   6980802.0  \n",
       "432   9-Jun     215         St. John's   2894059.0  \n",
       "433   5-Jun     215               Duke   6000000.0  \n",
       "434  Jul-00     265   Central Michigan   5016000.0  \n",
       "435   1-Jul     245           Illinois   3075880.0  \n",
       "436   3-Jun     195        Weber State   4236287.0  \n",
       "437   4-Jun     200             Lehigh   2525160.0  \n",
       "438   7-Jun     185     Westchester CC    525093.0  \n",
       "439  11-Jun     235               Duke   1415520.0  \n",
       "440   1-Jun     173             Dayton   2854940.0  \n",
       "441   9-Jun     240            Indiana   2637720.0  \n",
       "442   8-Jun     228            Clemson   4775000.0  \n",
       "443   1-Jun     191           Michigan   2658240.0  \n",
       "444   6-Jun     214           Colorado   9463484.0  \n",
       "445   6-Jun     190                NaN   3777720.0  \n",
       "446  10-Jun     265       Georgia Tech  12000000.0  \n",
       "447   1-Jul     245                NaN   1175880.0  \n",
       "448   8-Jun     226             Butler  15409570.0  \n",
       "449   8-Jun     206               Duke   1348440.0  \n",
       "450   8-Jun     226                NaN   2050000.0  \n",
       "451   6-Jun     206             Dayton    981348.0  \n",
       "452  10-Jun     234           Kentucky   2239800.0  \n",
       "453   3-Jun     203             Butler   2433333.0  \n",
       "454   1-Jun     179                NaN    900000.0  \n",
       "455   3-Jul     256                NaN   2900000.0  \n",
       "456  Jul-00     231             Kansas    947276.0  \n",
       "\n",
       "[457 rows x 9 columns]>"
      ]
     },
     "execution_count": 6,
     "metadata": {},
     "output_type": "execute_result"
    }
   ],
   "source": [
    "nba.info"
   ]
  },
  {
   "cell_type": "code",
   "execution_count": 8,
   "metadata": {},
   "outputs": [
    {
     "data": {
      "text/plain": [
       "RangeIndex(start=0, stop=457, step=1)"
      ]
     },
     "execution_count": 8,
     "metadata": {},
     "output_type": "execute_result"
    }
   ],
   "source": [
    "nba.index"
   ]
  },
  {
   "cell_type": "code",
   "execution_count": 9,
   "metadata": {},
   "outputs": [
    {
     "data": {
      "text/plain": [
       "Name         object\n",
       "Team         object\n",
       "Number        int64\n",
       "Position     object\n",
       "Age           int64\n",
       "Height       object\n",
       "Weight        int64\n",
       "College      object\n",
       "Salary      float64\n",
       "dtype: object"
      ]
     },
     "execution_count": 9,
     "metadata": {},
     "output_type": "execute_result"
    }
   ],
   "source": [
    "nba.dtypes"
   ]
  },
  {
   "cell_type": "code",
   "execution_count": 10,
   "metadata": {},
   "outputs": [
    {
     "data": {
      "text/plain": [
       "Index([u'Name', u'Team', u'Number', u'Position', u'Age', u'Height', u'Weight',\n",
       "       u'College', u'Salary'],\n",
       "      dtype='object')"
      ]
     },
     "execution_count": 10,
     "metadata": {},
     "output_type": "execute_result"
    }
   ],
   "source": [
    "nba.columns"
   ]
  },
  {
   "cell_type": "code",
   "execution_count": 11,
   "metadata": {},
   "outputs": [
    {
     "data": {
      "text/plain": [
       "[RangeIndex(start=0, stop=457, step=1),\n",
       " Index([u'Name', u'Team', u'Number', u'Position', u'Age', u'Height', u'Weight',\n",
       "        u'College', u'Salary'],\n",
       "       dtype='object')]"
      ]
     },
     "execution_count": 11,
     "metadata": {},
     "output_type": "execute_result"
    }
   ],
   "source": [
    "nba.axes"
   ]
  },
  {
   "cell_type": "code",
   "execution_count": 13,
   "metadata": {},
   "outputs": [
    {
     "data": {
      "text/plain": [
       "float64    1\n",
       "int64      3\n",
       "object     5\n",
       "dtype: int64"
      ]
     },
     "execution_count": 13,
     "metadata": {},
     "output_type": "execute_result"
    }
   ],
   "source": [
    "nba.get_dtype_counts()"
   ]
  }
 ],
 "metadata": {
  "kernelspec": {
   "display_name": "Python 2",
   "language": "python",
   "name": "python2"
  },
  "language_info": {
   "codemirror_mode": {
    "name": "ipython",
    "version": 2
   },
   "file_extension": ".py",
   "mimetype": "text/x-python",
   "name": "python",
   "nbconvert_exporter": "python",
   "pygments_lexer": "ipython2",
   "version": "2.7.15"
  }
 },
 "nbformat": 4,
 "nbformat_minor": 2
}
